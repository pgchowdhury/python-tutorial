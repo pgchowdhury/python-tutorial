{
 "cells": [
  {
   "cell_type": "markdown",
   "id": "fbd1c322-5736-4946-a163-8ab878f02f95",
   "metadata": {},
   "source": [
    "## Author: Prosenjit Ghosh Chowdhury ##\n",
    "### Date: 02-Aug-2024 ###\n",
    "#### LIST ####"
   ]
  },
  {
   "cell_type": "code",
   "execution_count": null,
   "id": "4e3e65a4-c159-4f35-b209-a6f951094b89",
   "metadata": {},
   "outputs": [],
   "source": [
    "numbers = [ 10, 12, 30, 20, 22 ]\n",
    "print(numbers)"
   ]
  },
  {
   "cell_type": "code",
   "execution_count": null,
   "id": "28210e58-ce73-41a9-bdc5-9f660dfd179b",
   "metadata": {},
   "outputs": [],
   "source": [
    "fruits = [\"apple\", \"pineapple\", \"mango\", \"strawberry\", \"blueberry\"]\n",
    "print(fruits)"
   ]
  },
  {
   "cell_type": "code",
   "execution_count": null,
   "id": "c323c95e-26d0-4cb2-98a3-843220332c89",
   "metadata": {},
   "outputs": [],
   "source": [
    "mixitems = [ 10, 20, 30, \"hello\", \"hi\"]\n",
    "print(mixitems)"
   ]
  },
  {
   "cell_type": "code",
   "execution_count": null,
   "id": "1047257f-f84b-4e90-ad91-1f166bbbd95b",
   "metadata": {},
   "outputs": [],
   "source": [
    "matrix = [[2,3,4], [10,20,30]]\n",
    "print(matrix)"
   ]
  },
  {
   "cell_type": "code",
   "execution_count": null,
   "id": "eb2527b9-1697-4c91-8044-90dbe26ceaa9",
   "metadata": {},
   "outputs": [],
   "source": [
    "mix = [10, 20, 30, \"hello\", [40, 60]]\n",
    "print(mix)"
   ]
  },
  {
   "cell_type": "code",
   "execution_count": null,
   "id": "d3eeffe5-4bf2-4c1e-86ae-90281d551242",
   "metadata": {},
   "outputs": [],
   "source": [
    "[1,1,1,1,1,1,1,1,1]"
   ]
  },
  {
   "cell_type": "code",
   "execution_count": null,
   "id": "4f4e1de8-9850-479c-88e5-7a4a4db16c8b",
   "metadata": {},
   "outputs": [],
   "source": [
    "ones = [1] * 100\n",
    "print(ones)"
   ]
  },
  {
   "cell_type": "code",
   "execution_count": null,
   "id": "3c574a84-93e9-40f8-b91c-ab4ee0f0326f",
   "metadata": {},
   "outputs": [],
   "source": [
    "nums = list(range(1,10))\n",
    "print(nums)"
   ]
  },
  {
   "cell_type": "code",
   "execution_count": null,
   "id": "ffe82122-3fc8-460a-b8e9-a4388a9fb4cd",
   "metadata": {},
   "outputs": [],
   "source": [
    "ch = list(\"How are you?\")\n",
    "print(ch)"
   ]
  },
  {
   "cell_type": "code",
   "execution_count": null,
   "id": "dc23a484-d5dc-40f5-962e-090f51067ae5",
   "metadata": {},
   "outputs": [],
   "source": [
    "combine = numbers + nums\n",
    "print(combine)"
   ]
  },
  {
   "cell_type": "code",
   "execution_count": null,
   "id": "29707c37-969b-413d-a82d-c0db037c14c4",
   "metadata": {},
   "outputs": [],
   "source": []
  },
  {
   "cell_type": "markdown",
   "id": "f34633d4-27eb-4bd2-bbbf-cd647d1c1a78",
   "metadata": {},
   "source": [
    "#### Accessing Items in the List ####"
   ]
  },
  {
   "cell_type": "code",
   "execution_count": null,
   "id": "85ec29c5-a71e-4a06-abef-82a60801db12",
   "metadata": {},
   "outputs": [],
   "source": [
    "fruits = [\"apple\", \"pineapple\", \"mango\", \"strawberry\", \"blueberry\"]\n",
    "print(fruits[-2])"
   ]
  },
  {
   "cell_type": "code",
   "execution_count": null,
   "id": "39d49058-43df-4d90-9e7b-a77ba4bce05f",
   "metadata": {},
   "outputs": [],
   "source": [
    "fruits[1] = \"orange\"\n",
    "print(fruits)"
   ]
  },
  {
   "cell_type": "code",
   "execution_count": null,
   "id": "b17808ad-e10f-4149-a54c-9aa698be51fe",
   "metadata": {},
   "outputs": [],
   "source": [
    "print(fruits[1:4])"
   ]
  },
  {
   "cell_type": "code",
   "execution_count": null,
   "id": "eba27419-80d3-42e1-bc94-e319bbe4cf3c",
   "metadata": {},
   "outputs": [],
   "source": [
    "print(fruits[:4])"
   ]
  },
  {
   "cell_type": "code",
   "execution_count": null,
   "id": "3399cd0d-31c2-4799-8f46-55c34d43c532",
   "metadata": {},
   "outputs": [],
   "source": [
    "print(fruits[:]) "
   ]
  },
  {
   "cell_type": "code",
   "execution_count": null,
   "id": "a2f68824-ebd1-4f17-8750-929234ed64f6",
   "metadata": {},
   "outputs": [],
   "source": [
    "nums = list(range(20))\n",
    "print(nums)"
   ]
  },
  {
   "cell_type": "code",
   "execution_count": null,
   "id": "c354fa04-ebbb-492a-ae40-a52976ce01b4",
   "metadata": {},
   "outputs": [],
   "source": [
    "print(nums[0:10])"
   ]
  },
  {
   "cell_type": "code",
   "execution_count": null,
   "id": "a22059af-ac48-4d5d-87ae-e427db97982d",
   "metadata": {},
   "outputs": [],
   "source": [
    "print(nums[::-1])"
   ]
  },
  {
   "cell_type": "code",
   "execution_count": null,
   "id": "2e79cf30-17fa-452f-8db9-6dbdb02a00c3",
   "metadata": {},
   "outputs": [],
   "source": [
    "print(nums[:10:-1])"
   ]
  },
  {
   "cell_type": "code",
   "execution_count": null,
   "id": "4a813f16-c2d3-4b3c-b838-6676e0e8a9ff",
   "metadata": {},
   "outputs": [],
   "source": [
    "print(nums[::3])"
   ]
  },
  {
   "cell_type": "code",
   "execution_count": null,
   "id": "18184923-912e-45f4-9577-63104783f3a9",
   "metadata": {},
   "outputs": [],
   "source": []
  },
  {
   "cell_type": "markdown",
   "id": "944151be-fa51-4305-9ee5-af5a6c167846",
   "metadata": {},
   "source": [
    "#### Features of a List ####"
   ]
  },
  {
   "cell_type": "code",
   "execution_count": null,
   "id": "98c4dd25-cba1-493a-a125-681db2c81acb",
   "metadata": {},
   "outputs": [],
   "source": [
    "# List can have duplicate items\n",
    "temp = [1,2,3,4,5,5,5,5]\n",
    "print(temp)"
   ]
  },
  {
   "cell_type": "code",
   "execution_count": null,
   "id": "6344c0f9-731f-492d-947b-40588f349781",
   "metadata": {},
   "outputs": [],
   "source": [
    "# lists are mutable - Items in a list are mutable\n",
    "temp[0] = 2\n",
    "print(temp)"
   ]
  },
  {
   "cell_type": "code",
   "execution_count": null,
   "id": "970fe485-0ca7-41f7-b8eb-ffdc73773cd7",
   "metadata": {},
   "outputs": [],
   "source": [
    "# list can store items in various type\n",
    "temp[-1] = \"hello\"\n",
    "print(temp)"
   ]
  },
  {
   "cell_type": "markdown",
   "id": "a1d02b27-2218-47b3-823e-79a3851dc9b3",
   "metadata": {},
   "source": [
    "#### Adding Items to List ####"
   ]
  },
  {
   "cell_type": "code",
   "execution_count": null,
   "id": "1811f73e-8e6c-45a4-a6f0-10e0de800ac8",
   "metadata": {},
   "outputs": [],
   "source": [
    "chars = [\"a\", \"b\", \"c\", \"d\"]"
   ]
  },
  {
   "cell_type": "code",
   "execution_count": null,
   "id": "46058c60-feea-4d60-989b-c150aca16d01",
   "metadata": {},
   "outputs": [],
   "source": [
    "chars.append(\"e\")\n",
    "print(chars)"
   ]
  },
  {
   "cell_type": "code",
   "execution_count": null,
   "id": "ced128ca-5aff-4d17-a0bd-5261ffe05664",
   "metadata": {},
   "outputs": [],
   "source": [
    "chars.insert(1, \"x\")\n",
    "print(chars)"
   ]
  },
  {
   "cell_type": "markdown",
   "id": "bf0c85a2-14be-4efd-ae9c-efa7b6020773",
   "metadata": {},
   "source": [
    "#### Remove Items from the list ####"
   ]
  },
  {
   "cell_type": "code",
   "execution_count": null,
   "id": "4441f283-5ad5-4f0f-8f1b-f954fa4b47e5",
   "metadata": {},
   "outputs": [],
   "source": [
    "chars.pop()\n",
    "print(chars)"
   ]
  },
  {
   "cell_type": "code",
   "execution_count": null,
   "id": "e3b6d982-77c5-4ab5-9e69-16ff20d27a84",
   "metadata": {},
   "outputs": [],
   "source": [
    "chars.pop(1)\n",
    "print(chars)"
   ]
  },
  {
   "cell_type": "code",
   "execution_count": null,
   "id": "5bc7ed91-075a-46d8-b505-5fe4a6be6f42",
   "metadata": {},
   "outputs": [],
   "source": [
    "chars.remove(\"c\")\n",
    "print(chars)"
   ]
  },
  {
   "cell_type": "code",
   "execution_count": null,
   "id": "e4f9b887-e40e-4ed2-afc3-e64dc58e54c0",
   "metadata": {},
   "outputs": [],
   "source": [
    "chars = [\"a\", \"b\", \"c\", \"d\"]"
   ]
  },
  {
   "cell_type": "code",
   "execution_count": null,
   "id": "b12b9ad2-e63f-4181-8a27-be497091b775",
   "metadata": {},
   "outputs": [],
   "source": [
    "del chars[0:2]\n",
    "print(chars)"
   ]
  },
  {
   "cell_type": "code",
   "execution_count": null,
   "id": "7092abd9-0232-4c96-b1fa-3623616bb963",
   "metadata": {},
   "outputs": [],
   "source": [
    "chars.clear()\n",
    "print(chars)"
   ]
  },
  {
   "cell_type": "markdown",
   "id": "11fadcc5-09ce-495f-9c3b-4c27d0381884",
   "metadata": {},
   "source": [
    "#### Common methods and functions ####"
   ]
  },
  {
   "cell_type": "code",
   "execution_count": null,
   "id": "1fa42189-f689-4565-a6dd-4c415425d1b1",
   "metadata": {},
   "outputs": [],
   "source": [
    "fruits = [\"apple\", \"pineapple\", \"mango\", \"strawberry\", \"blueberry\", \"mango\", \"apple\", \"apple\"]"
   ]
  },
  {
   "cell_type": "code",
   "execution_count": null,
   "id": "854abc17-1a91-407f-a977-dcf28c89c055",
   "metadata": {},
   "outputs": [],
   "source": [
    "print(len(fruits))"
   ]
  },
  {
   "cell_type": "code",
   "execution_count": null,
   "id": "18fea6f0-1323-47cf-8748-89b1d2e18041",
   "metadata": {},
   "outputs": [],
   "source": [
    "print(fruits.count(\"apple\"))"
   ]
  },
  {
   "cell_type": "code",
   "execution_count": null,
   "id": "37d84b99-355b-49a2-bd5b-e4b30c8979e6",
   "metadata": {},
   "outputs": [],
   "source": [
    "fruits.reverse()\n",
    "print(fruits)"
   ]
  },
  {
   "cell_type": "code",
   "execution_count": null,
   "id": "2460981f-de3a-441d-8916-4a9fe1182343",
   "metadata": {},
   "outputs": [],
   "source": [
    "fruits[::-1]\n",
    "print(fruits)"
   ]
  },
  {
   "cell_type": "code",
   "execution_count": null,
   "id": "54695ca3-1ba8-40d3-a0e4-2832c19902c5",
   "metadata": {},
   "outputs": [],
   "source": []
  },
  {
   "cell_type": "code",
   "execution_count": null,
   "id": "c1db3367-377c-44aa-9eca-79a30d9cd765",
   "metadata": {},
   "outputs": [],
   "source": []
  },
  {
   "cell_type": "code",
   "execution_count": null,
   "id": "d5ac7a11-de5c-4f41-9a3f-e1afe0a226ca",
   "metadata": {},
   "outputs": [],
   "source": []
  },
  {
   "cell_type": "code",
   "execution_count": null,
   "id": "587c18f8-82c7-4a37-bc56-05c3d6c0c9b6",
   "metadata": {},
   "outputs": [],
   "source": []
  }
 ],
 "metadata": {
  "kernelspec": {
   "display_name": "Python 3 (ipykernel)",
   "language": "python",
   "name": "python3"
  },
  "language_info": {
   "codemirror_mode": {
    "name": "ipython",
    "version": 3
   },
   "file_extension": ".py",
   "mimetype": "text/x-python",
   "name": "python",
   "nbconvert_exporter": "python",
   "pygments_lexer": "ipython3",
   "version": "3.12.3"
  }
 },
 "nbformat": 4,
 "nbformat_minor": 5
}
