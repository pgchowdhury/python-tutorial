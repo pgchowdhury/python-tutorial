{
 "cells": [
  {
   "cell_type": "markdown",
   "id": "7042df10-d174-4724-9097-fd04abf0da72",
   "metadata": {},
   "source": [
    "#### Sort a List ####"
   ]
  },
  {
   "cell_type": "code",
   "execution_count": 2,
   "id": "19a139a0-e0b3-4352-8b53-2969a1221dbd",
   "metadata": {},
   "outputs": [],
   "source": [
    "numbers = [10, 40, 22, 32, 11, 62, 92, 84, 33, 66]"
   ]
  },
  {
   "cell_type": "code",
   "execution_count": 5,
   "id": "b9a1d7f8-6768-46b0-9f6e-27d16d111594",
   "metadata": {},
   "outputs": [
    {
     "name": "stdout",
     "output_type": "stream",
     "text": [
      "[10, 11, 22, 32, 33, 40, 62, 66, 84, 92]\n"
     ]
    }
   ],
   "source": [
    "# Sorting in ascending order with sort method. It modifies the list in-place.\n",
    "numbers.sort(reverse = False)\n",
    "print(numbers)"
   ]
  },
  {
   "cell_type": "code",
   "execution_count": 6,
   "id": "fe1de97c-f3f9-4bbe-a41a-e519863867a1",
   "metadata": {},
   "outputs": [
    {
     "name": "stdout",
     "output_type": "stream",
     "text": [
      "[92, 84, 66, 62, 40, 33, 32, 22, 11, 10]\n"
     ]
    }
   ],
   "source": [
    "# Sorting in descending order\n",
    "numbers.sort(reverse = True)\n",
    "print(numbers)"
   ]
  },
  {
   "cell_type": "code",
   "execution_count": 7,
   "id": "2b9a8f81-aee5-4a2a-95c1-8b108e62255c",
   "metadata": {},
   "outputs": [],
   "source": [
    "fruits = [\"apple\", \"pineapple\", \"mango\", \"strawberry\", \"blueberry\"]"
   ]
  },
  {
   "cell_type": "code",
   "execution_count": 10,
   "id": "f6486a27-31e9-45f1-a29b-f7cd41c8cb45",
   "metadata": {},
   "outputs": [
    {
     "name": "stdout",
     "output_type": "stream",
     "text": [
      "['apple', 'blueberry', 'mango', 'pineapple', 'strawberry']\n"
     ]
    }
   ],
   "source": [
    "# Sorting a String\n",
    "fruits.sort(reverse= False)\n",
    "print(fruits)"
   ]
  },
  {
   "cell_type": "code",
   "execution_count": 12,
   "id": "bad8eab5-0430-4bc1-a86a-92cf5f95e105",
   "metadata": {},
   "outputs": [
    {
     "name": "stdout",
     "output_type": "stream",
     "text": [
      "['strawberry', 'blueberry', 'pineapple', 'apple', 'mango']\n"
     ]
    }
   ],
   "source": [
    "# Sorting with Custom Keys\n",
    "fruits.sort(key = len, reverse = True)\n",
    "print(fruits)"
   ]
  },
  {
   "cell_type": "code",
   "execution_count": null,
   "id": "1764de3f-f666-436d-b27f-bceb7b3e7f03",
   "metadata": {},
   "outputs": [],
   "source": [
    "# sort without modifying the original list "
   ]
  },
  {
   "cell_type": "code",
   "execution_count": 13,
   "id": "3f78e5b6-4d8f-4858-86eb-58426156eec4",
   "metadata": {},
   "outputs": [],
   "source": [
    "numbers = [60, 40, 70, 20, 30, 90, 80, 50]"
   ]
  },
  {
   "cell_type": "code",
   "execution_count": 14,
   "id": "fbba6c47-d2a2-4eaf-998f-fe143183d4e3",
   "metadata": {},
   "outputs": [
    {
     "name": "stdout",
     "output_type": "stream",
     "text": [
      "[90, 80, 70, 60, 50, 40, 30, 20]\n",
      "[60, 40, 70, 20, 30, 90, 80, 50]\n"
     ]
    }
   ],
   "source": [
    "# Sorting without changing the orginal list by using sorted() function\n",
    "sort_numbers = sorted(numbers, reverse=True)\n",
    "print(sort_numbers)\n",
    "print(numbers)"
   ]
  },
  {
   "cell_type": "code",
   "execution_count": 16,
   "id": "3a0d733a-adf0-46c9-bbbe-f4998fde7314",
   "metadata": {},
   "outputs": [
    {
     "name": "stdout",
     "output_type": "stream",
     "text": [
      "['strawberry', 'pineapple', 'blueberry', 'apple', 'mango']\n",
      "['apple', 'pineapple', 'mango', 'strawberry', 'blueberry']\n"
     ]
    }
   ],
   "source": [
    "new_fruits = [\"apple\", \"pineapple\", \"mango\", \"strawberry\", \"blueberry\"]\n",
    "sort_fruits = sorted(new_fruits, key=len, reverse=True)\n",
    "print(sort_fruits)\n",
    "print(new_fruits)"
   ]
  },
  {
   "cell_type": "markdown",
   "id": "43ee4ea1-ca58-47ac-b56a-de55f19565eb",
   "metadata": {},
   "source": [
    "#### Unpacking List ####"
   ]
  },
  {
   "cell_type": "code",
   "execution_count": 17,
   "id": "919f1d2f-2b37-4d38-9da0-5f6e358559b6",
   "metadata": {},
   "outputs": [],
   "source": [
    "num = [ 10, 20, 30 ]"
   ]
  },
  {
   "cell_type": "code",
   "execution_count": 18,
   "id": "5f07c047-5815-4ab7-abb8-e444f37265a9",
   "metadata": {},
   "outputs": [
    {
     "name": "stdout",
     "output_type": "stream",
     "text": [
      "10\n",
      "20\n",
      "30\n"
     ]
    }
   ],
   "source": [
    "x, y, z = num\n",
    "print(x)\n",
    "print(y)\n",
    "print(z)"
   ]
  },
  {
   "cell_type": "code",
   "execution_count": 19,
   "id": "25a3ccc1-86a6-47a3-8458-39bfc91aca1f",
   "metadata": {},
   "outputs": [],
   "source": [
    "lst = [0, 1, [2, 3, 4]]"
   ]
  },
  {
   "cell_type": "code",
   "execution_count": 20,
   "id": "463411a7-88fd-42ec-84a2-676e6ce95ec6",
   "metadata": {},
   "outputs": [
    {
     "name": "stdout",
     "output_type": "stream",
     "text": [
      "0 1 [2, 3, 4]\n"
     ]
    }
   ],
   "source": [
    "a, b, c = lst\n",
    "print(a,b,c)"
   ]
  },
  {
   "cell_type": "code",
   "execution_count": 21,
   "id": "a0537eb2-7799-4a9e-b581-d55049bada62",
   "metadata": {},
   "outputs": [
    {
     "name": "stdout",
     "output_type": "stream",
     "text": [
      "0 1 2 3 4\n"
     ]
    }
   ],
   "source": [
    "a,b,[c,d,e] = lst\n",
    "print(a,b,c,d,e)"
   ]
  },
  {
   "cell_type": "code",
   "execution_count": 23,
   "id": "718521bc-e7b8-4ac9-93f9-e14134e4508d",
   "metadata": {},
   "outputs": [],
   "source": [
    "num = [ 10, 20, 30 ]"
   ]
  },
  {
   "cell_type": "code",
   "execution_count": 24,
   "id": "603c025e-62ee-44b0-8c97-44672108e19b",
   "metadata": {},
   "outputs": [
    {
     "name": "stdout",
     "output_type": "stream",
     "text": [
      "10\n",
      "20\n",
      "30\n"
     ]
    }
   ],
   "source": [
    "x, _, z = num\n",
    "print(x)\n",
    "print(_)\n",
    "print(z)"
   ]
  },
  {
   "cell_type": "code",
   "execution_count": 25,
   "id": "b5d9d742-e1d0-49b9-85be-317669eca737",
   "metadata": {},
   "outputs": [],
   "source": [
    "numbers = [ 10, 12, 30, 20, 22 ]"
   ]
  },
  {
   "cell_type": "code",
   "execution_count": 27,
   "id": "0c1b3f23-4f63-442a-b7f8-12352bee4ee1",
   "metadata": {},
   "outputs": [
    {
     "name": "stdout",
     "output_type": "stream",
     "text": [
      "10 12 [30, 20, 22]\n"
     ]
    }
   ],
   "source": [
    "x, y, *z = numbers\n",
    "print(x, y, z)"
   ]
  },
  {
   "cell_type": "code",
   "execution_count": 28,
   "id": "465306e1-0f25-4da5-90c5-499b1e9713f5",
   "metadata": {},
   "outputs": [
    {
     "name": "stdout",
     "output_type": "stream",
     "text": [
      "10 [12, 30, 20] 22\n"
     ]
    }
   ],
   "source": [
    "x, *y, z = numbers\n",
    "print(x, y, z)"
   ]
  },
  {
   "cell_type": "code",
   "execution_count": 29,
   "id": "7b7c8959-b1da-4c48-8e83-3562601b25c8",
   "metadata": {},
   "outputs": [
    {
     "name": "stdout",
     "output_type": "stream",
     "text": [
      "[10, 12, 30] 20 22\n"
     ]
    }
   ],
   "source": [
    "*x, y, z = numbers\n",
    "print(x, y, z)"
   ]
  },
  {
   "cell_type": "markdown",
   "id": "741a6dde-418b-43bb-b73b-8fc787c3f27e",
   "metadata": {},
   "source": [
    "#### Looping a List ####"
   ]
  },
  {
   "cell_type": "code",
   "execution_count": 30,
   "id": "e6e6f0b0-db17-40f0-afb8-c8aa5881e07e",
   "metadata": {},
   "outputs": [],
   "source": [
    "letters = [\"x\", \"y\", \"z\"]"
   ]
  },
  {
   "cell_type": "code",
   "execution_count": 31,
   "id": "43ae82e9-e3f3-4d21-8747-dfc45277dd88",
   "metadata": {},
   "outputs": [
    {
     "name": "stdout",
     "output_type": "stream",
     "text": [
      "x\n",
      "y\n",
      "z\n"
     ]
    }
   ],
   "source": [
    "# Looping to the list\n",
    "for l in letters:\n",
    "    print(l)"
   ]
  },
  {
   "cell_type": "code",
   "execution_count": 32,
   "id": "67319d31-e92c-45a7-972d-def6a1befbcf",
   "metadata": {},
   "outputs": [
    {
     "name": "stdout",
     "output_type": "stream",
     "text": [
      "(0, 'x')\n",
      "(1, 'y')\n",
      "(2, 'z')\n"
     ]
    }
   ],
   "source": [
    "for en in enumerate(letters):\n",
    "    print(en)"
   ]
  },
  {
   "cell_type": "code",
   "execution_count": 33,
   "id": "2f1bfa52-80ff-4669-8e7b-46168beb1644",
   "metadata": {},
   "outputs": [
    {
     "name": "stdout",
     "output_type": "stream",
     "text": [
      "Index 0, Letter x\n",
      "Index 1, Letter y\n",
      "Index 2, Letter z\n"
     ]
    }
   ],
   "source": [
    "# Get the index with enumerate() function - adds a counter to an iterable and returns enumerating object \n",
    "for index, letter in enumerate(letters):\n",
    "    print(f\"Index {index}, Letter {letter}\")"
   ]
  },
  {
   "cell_type": "code",
   "execution_count": null,
   "id": "5ed3cbdb-63f1-4501-817b-b46b7cac9095",
   "metadata": {},
   "outputs": [],
   "source": []
  },
  {
   "cell_type": "code",
   "execution_count": null,
   "id": "6e640a28-feca-4dc1-aad3-252aed14e87d",
   "metadata": {},
   "outputs": [],
   "source": []
  },
  {
   "cell_type": "code",
   "execution_count": null,
   "id": "0556eb8d-3cb2-4562-be19-169f03e84151",
   "metadata": {},
   "outputs": [],
   "source": []
  },
  {
   "cell_type": "code",
   "execution_count": null,
   "id": "5d9b31ac-b869-47d2-9b85-7030ba7cc044",
   "metadata": {},
   "outputs": [],
   "source": []
  },
  {
   "cell_type": "code",
   "execution_count": null,
   "id": "14a6969d-9436-40ce-a0cb-baa68f43eb3f",
   "metadata": {},
   "outputs": [],
   "source": []
  }
 ],
 "metadata": {
  "kernelspec": {
   "display_name": "Python 3 (ipykernel)",
   "language": "python",
   "name": "python3"
  },
  "language_info": {
   "codemirror_mode": {
    "name": "ipython",
    "version": 3
   },
   "file_extension": ".py",
   "mimetype": "text/x-python",
   "name": "python",
   "nbconvert_exporter": "python",
   "pygments_lexer": "ipython3",
   "version": "3.12.3"
  }
 },
 "nbformat": 4,
 "nbformat_minor": 5
}
